{
  "nbformat": 4,
  "nbformat_minor": 0,
  "metadata": {
    "colab": {
      "name": "B0829037 吳紹齊.ipynb",
      "provenance": [],
      "collapsed_sections": [],
      "include_colab_link": true
    },
    "kernelspec": {
      "display_name": "Python 3",
      "language": "python",
      "name": "python3"
    },
    "language_info": {
      "codemirror_mode": {
        "name": "ipython",
        "version": 3
      },
      "file_extension": ".py",
      "mimetype": "text/x-python",
      "name": "python",
      "nbconvert_exporter": "python",
      "pygments_lexer": "ipython3",
      "version": "3.7.3"
    }
  },
  "cells": [
    {
      "cell_type": "markdown",
      "metadata": {
        "id": "view-in-github",
        "colab_type": "text"
      },
      "source": [
        "<a href=\"https://colab.research.google.com/github/Shao-Chi-Wu/final_exam_code/blob/main/B0829037_%E5%90%B3%E7%B4%B9%E9%BD%8A.ipynb\" target=\"_parent\"><img src=\"https://colab.research.google.com/assets/colab-badge.svg\" alt=\"Open In Colab\"/></a>"
      ]
    },
    {
      "cell_type": "markdown",
      "metadata": {
        "id": "1l8i6ab_FTEj"
      },
      "source": [
        "# 期末考題 2021\n",
        "## 長庚大學 資工系 @ 2021/06/22\n",
        "- by 呂仁園老師\n",
        "\n",
        "----\n",
        "# 1. \n",
        "考試時間 2021/06/22， 10:10~ 12:30，\n",
        "\n",
        "# 2. \n",
        "嚴禁同學間互相抄襲，若有抄襲情形，【抄襲者】與【被抄襲者】皆為0分。請不要害別人，也保護自己不被別人害！\n",
        "\n",
        "# 3. \n",
        "答案 以 【pdf】 檔案 上傳 【Elearning】 之 \n",
        "【評量區】//【作業/報告】//【正式期末考專區】\n",
        "\n",
        "# 4. \n",
        "pdf 應含所撰寫之程式(.ipynb) 之 Colab 或 Github 連結，可讓老師或助教直接點擊該連結即可觀看程式。\n",
        "\n",
        "\n",
        "# 5. \n",
        "答題須寫推論或計算過程，若有Python程式碼，應完全列出指令。\n",
        "\n",
        "# 6.\n",
        "題目共 20 小題，每題 5%"
      ]
    },
    {
      "cell_type": "markdown",
      "metadata": {
        "id": "NHD5j7tnM5CD"
      },
      "source": [
        "#[Q1]\n",
        "\n",
        "$n$ 個獨立且分布相同的隨機變數 \n",
        "$\n",
        "X_1,\\ X_2, …. X_n\n",
        "$\n",
        "它們有共同的\n",
        "\n",
        "期望值: $E(X_i)=μ$, \n",
        "\n",
        "標準差: $Std(X_i)=σ$, \n",
        "\n",
        "----\n",
        "$\\bar{X}$ , $S^2$ \n",
        "\n",
        "分別代表它們的【樣本平均數】以及【樣本變異數】。數學公式定義如下：\n",
        "\n",
        "$\n",
        "\\bar{X}=\\frac{1}{n}\\sum_{i=1}^{n}X_i\n",
        "\\\\\n",
        "S^2=\\frac{1}{n-1}\\sum_{i=1}^{n}\\left(X_i-\\bar{X}\\right)^2\n",
        "$\n",
        "\n",
        "----\n",
        "令 統計量 $T$ 代表 樣本平均$\\bar{X}$ 與母體平均$μ$ 之間的【正規距離】(scaled distance)，數學公式定義如下：\n",
        "\n",
        "$\n",
        "T=\\frac{\\ \\bar{X}-\\mu}{S/\\sqrt{n}}\n",
        "$\n",
        "\n",
        "----\n",
        "\n",
        "\n",
        "令 n = 10,  μ= 5,  σ=2，\n",
        "請回答以下問題\n",
        "\n",
        "1. \n",
        "$\n",
        "\tE\\left(\\bar{X}\\right)=\\ ?\n",
        "$\n",
        "\n",
        "1. \n",
        "$\n",
        "\tE\\left(S^2\\right)=\\ ?\n",
        "$\n",
        "\n",
        "1. \n",
        "$\n",
        "\tE\\left(T\\right)=\\ ?\n",
        "$\n",
        "\n",
        "1. \n",
        "$\n",
        "\tVar\\left(\\bar{X}\\right)=\\ ?\n",
        "$\n",
        "\n",
        "1. \n",
        "$\n",
        "\tVar\\left(S^2\\right)=\\ ?\n",
        "$\n",
        "\n",
        "1. \n",
        "$\n",
        "\tVar\\left(T\\right)=\\ ?\n",
        "$\n",
        "\n",
        "1. \n",
        "$\n",
        "\t\\bar{X} 的 機率密度函數  f_{\\bar{X}}\\left(x\\right)=?\n",
        "$\n",
        "\n",
        "1. \n",
        "$\n",
        "\tS^2 的機率密度函數 f_{S^2}\\left(q\\right)=?\n",
        "$\n",
        "\n",
        "1. \n",
        "$\n",
        "\tT 的 機率密度函數  f_T\\left(t\\right)=?\n",
        "$\n",
        "\n",
        "1. \n",
        "$\n",
        "\tP\\left(4\\le\\bar{X}\\le6\\right)=?\n",
        "$\n",
        "\n",
        "1. \n",
        "$\n",
        "\tP\\left(3\\le S^2\\le5\\right)=?\n",
        "$\n",
        "\n",
        "1. \n",
        "$\n",
        "\tP\\left(-1\\le T\\le1\\right)=?\n",
        "$\n",
        "\n",
        "1. \n",
        "$\n",
        "\t若 P\\left( x_1\\le\\bar{X}\\le x_2\\right)=95\\%，那麼(x_1, x_2)=?\n",
        "$\n",
        "\n",
        "1. \n",
        "$\n",
        "\t若 P\\left(q_1\\le S^2\\le\\ q_2\\right)=95\\%，那麼 (q_1, q_2) = ?\n",
        "$\n",
        "\n",
        "1. \n",
        "$\n",
        "\t若 P\\left(t_1\\le T\\le t_2\\right)= 95\\%，那麼 (t_1, t_2)=?\n",
        "$\n",
        "\n",
        "\n"
      ]
    },
    {
      "cell_type": "markdown",
      "metadata": {
        "id": "ret3QoyQM4FM"
      },
      "source": [
        "首先，引入必要的模組"
      ]
    },
    {
      "cell_type": "code",
      "metadata": {
        "id": "xMK4shCLFqHb"
      },
      "source": [
        "import numpy      as np\n",
        "import scipy.special  as sp\n",
        "import scipy.stats   as st\n",
        "import pandas      as pd\n",
        "\n",
        "\n",
        "n= 10 \n",
        "μ= 5\n",
        "σ= 2\n",
        "  "
      ],
      "execution_count": null,
      "outputs": []
    },
    {
      "cell_type": "markdown",
      "metadata": {
        "id": "0IBnpscPHcPR"
      },
      "source": [
        "1. \n",
        "$\n",
        "\tE\\left(\\bar{X}\\right)=\\ ?\n",
        "$\n"
      ]
    },
    {
      "cell_type": "markdown",
      "metadata": {
        "id": "6ypNHaJjETCq"
      },
      "source": [
        "ans: $E\\left(\\bar{X}\\right)=E(\\frac{1}{n}\\sum_{i=1}^{n}X_i)=\\frac{1}{n}E(\\sum_{i=1}^{n}X_i)=\\frac{1}{n}\\sum_{i=1}^{n}μ=μ$"
      ]
    },
    {
      "cell_type": "code",
      "metadata": {
        "id": "WhQal-ejETCq",
        "outputId": "e8f9f5ac-2cf4-4b4e-d5e9-63251da1a637"
      },
      "source": [
        "#(1) \n",
        "print(\"ans:\",μ)"
      ],
      "execution_count": null,
      "outputs": [
        {
          "output_type": "stream",
          "text": [
            "ans: 5\n"
          ],
          "name": "stdout"
        }
      ]
    },
    {
      "cell_type": "markdown",
      "metadata": {
        "id": "sOdBob9eHfwJ"
      },
      "source": [
        "\n",
        "2. \n",
        "$\n",
        "\tE\\left(S^2\\right)=\\ ?\n",
        "$\n"
      ]
    },
    {
      "cell_type": "markdown",
      "metadata": {
        "id": "JceCLh5FETCr"
      },
      "source": [
        "ans: $E\\left(S^2\\right)=E\\left[\\frac{1}{n-1}\\sum_{i=1}^{n}\\left(X_i-\\bar{X}\\right)^2\\right]=\\frac{1}{n-1}\\left[\\sum_{i=1}^{n}E(X_i-μ)^2-nE\\left(\\bar{X}-μ\\right)^2\\right]=\\frac{1}{n-1}\\left(nσ^2-nσ_\\bar{X}^2\\right)=\\frac{1}{n-1}\\left(nσ^2-n\\frac{σ^2}{n}\\right)=σ^2$"
      ]
    },
    {
      "cell_type": "code",
      "metadata": {
        "id": "SKLdfF4VIPLJ",
        "outputId": "f8b39582-8ab0-4f3c-b8fb-8e9b8a2817ac"
      },
      "source": [
        "#(2)\n",
        "#E(S**2)=E((1/𝑛−1)*(n∑𝑖=1(𝑋𝑖−𝑋¯)**2))=\n",
        "#(1/n-1)*((n∑𝑖=1 (σ**2*𝑋𝑖))-(n*σ**2*𝑋¯)))=\n",
        "#σ**2=2**2=4\n",
        "σ=2\n",
        "print(\"ans:\",σ**2)"
      ],
      "execution_count": null,
      "outputs": [
        {
          "output_type": "stream",
          "text": [
            "ans: 4\n"
          ],
          "name": "stdout"
        }
      ]
    },
    {
      "cell_type": "markdown",
      "metadata": {
        "id": "jEMhYdIJHiXS"
      },
      "source": [
        "\n",
        "3. \n",
        "$\n",
        "\tE\\left(T\\right)=\\ ?\n",
        "$\n"
      ]
    },
    {
      "cell_type": "code",
      "metadata": {
        "id": "AdOA_04RIQpy",
        "outputId": "acb32c1c-bb66-4039-a8a5-282c67b895c5"
      },
      "source": [
        "#(3)\n",
        "#因為x bar=μ => μ-μ=0\n",
        "print(\"ans: E(T)=0\" )"
      ],
      "execution_count": null,
      "outputs": [
        {
          "output_type": "stream",
          "text": [
            "ans: E(T)=0\n"
          ],
          "name": "stdout"
        }
      ]
    },
    {
      "cell_type": "markdown",
      "metadata": {
        "id": "4Zd3Bn2tHnJR"
      },
      "source": [
        "\n",
        "4. \n",
        "$\n",
        "\tVar\\left(\\bar{X}\\right)=\\ ?\n",
        "$\n"
      ]
    },
    {
      "cell_type": "code",
      "metadata": {
        "id": "0Lz06ItVIRj6",
        "outputId": "67b8fa2e-5400-4d12-e8b7-58e0ab6009b3"
      },
      "source": [
        "#(4)\n",
        "#=(1/n)^2*var(X1+X2+...+Xn)\n",
        "#=(1/n)^2*(σ^2+σ^2+σ^2+...+σ^2)\n",
        "#=(1/n)^2*(n*σ^2)\n",
        "#=(σ^2/n)\n",
        "n=10\n",
        "print(\"ans:\",((σ**2)/n))"
      ],
      "execution_count": null,
      "outputs": [
        {
          "output_type": "stream",
          "text": [
            "ans: 0.4\n"
          ],
          "name": "stdout"
        }
      ]
    },
    {
      "cell_type": "markdown",
      "metadata": {
        "id": "dqB7nq1vHoih"
      },
      "source": [
        "\n",
        "5. \n",
        "$\n",
        "\tVar\\left(S^2\\right)=\\ ?\n",
        "$\n"
      ]
    },
    {
      "cell_type": "code",
      "metadata": {
        "id": "mA2XFMcqISsk",
        "outputId": "501c46fa-c1bd-4119-e3ed-3666099d8ff6"
      },
      "source": [
        "#(5)\n",
        "#=(2*σ^4)/(n-1)\n",
        "σ=2\n",
        "n=10\n",
        "print(\"ans:\",(2*σ**4)/(n-1))"
      ],
      "execution_count": null,
      "outputs": [
        {
          "output_type": "stream",
          "text": [
            "ans: 3.5555555555555554\n"
          ],
          "name": "stdout"
        }
      ]
    },
    {
      "cell_type": "markdown",
      "metadata": {
        "id": "8WgBr2DMHpwS"
      },
      "source": [
        "\n",
        "6. \n",
        "$\n",
        "\tVar\\left(T\\right)=\\ ?\n",
        "$\n"
      ]
    },
    {
      "cell_type": "code",
      "metadata": {
        "id": "FldyobqHIThq",
        "outputId": "af7ddf9a-e793-40a6-f6f9-803b5c4f2915"
      },
      "source": [
        "#(6)\n",
        "n=10\n",
        "print((n-1)/(n-3))"
      ],
      "execution_count": null,
      "outputs": [
        {
          "output_type": "stream",
          "text": [
            "1.2857142857142858\n"
          ],
          "name": "stdout"
        }
      ]
    },
    {
      "cell_type": "markdown",
      "metadata": {
        "id": "DurEWYdyHq_p"
      },
      "source": [
        "\n",
        "7. \n",
        "$\n",
        "\t\\bar{X} 的 機率密度函數  f_{\\bar{X}}\\left(x\\right)=?\n",
        "$\n"
      ]
    },
    {
      "cell_type": "markdown",
      "metadata": {
        "id": "n_7Bj5SVIUlU"
      },
      "source": [
        "#(7)![%E7%AC%AC%E4%B8%83%E9%A1%8C.jpg](attachment:%E7%AC%AC%E4%B8%83%E9%A1%8C.jpg)"
      ]
    },
    {
      "cell_type": "markdown",
      "metadata": {
        "id": "KOM9Sq3EHsOx"
      },
      "source": [
        "\n",
        "8. \n",
        "$\n",
        "\tS^2 的機率密度函數 f_{S^2}\\left(q\\right)=?\n",
        "$\n"
      ]
    },
    {
      "cell_type": "markdown",
      "metadata": {
        "id": "O-0Am5PyIVmd"
      },
      "source": [
        "#(8)![S__137347074.jpg](attachment:S__137347074.jpg)"
      ]
    },
    {
      "cell_type": "markdown",
      "metadata": {
        "id": "GT3Ya54PHteJ"
      },
      "source": [
        "\n",
        "9. \n",
        "$\n",
        "\tT 的 機率密度函數  f_T\\left(t\\right)=?\n",
        "$\n"
      ]
    },
    {
      "cell_type": "markdown",
      "metadata": {
        "id": "HW8EfHSRHurd"
      },
      "source": [
        "\n",
        "10. \n",
        "$\n",
        "\tP\\left(4\\le\\bar{X}\\le6\\right)=?\n",
        "$\n"
      ]
    },
    {
      "cell_type": "markdown",
      "metadata": {
        "id": "PbVJVkMHETCv"
      },
      "source": [
        "![%E7%AC%AC%E4%B9%9D%E9%A1%8C.jpg](attachment:%E7%AC%AC%E4%B9%9D%E9%A1%8C.jpg)"
      ]
    },
    {
      "cell_type": "code",
      "metadata": {
        "id": "f--b36SNIXmp",
        "outputId": "9e3e9314-2f3a-4cdb-ddf9-2e5f2b342230"
      },
      "source": [
        "#(10)\n",
        "import math\n",
        "μ= 5\n",
        "σ= 2\n",
        "prob1=st.norm.cdf(x=(6-μ)/(σ/math.sqrt(n)))\n",
        "prob2=st.norm.cdf(x=(4-μ)/(σ/math.sqrt(n)))\n",
        "prob1-prob2"
      ],
      "execution_count": null,
      "outputs": [
        {
          "output_type": "execute_result",
          "data": {
            "text/plain": [
              "0.8861537019933419"
            ]
          },
          "metadata": {
            "tags": []
          },
          "execution_count": 87
        }
      ]
    },
    {
      "cell_type": "markdown",
      "metadata": {
        "id": "5CNXCGRiHvxN"
      },
      "source": [
        "\n",
        "11. \n",
        "$\n",
        "\tP\\left(3\\le S^2\\le5\\right)=?\n",
        "$\n"
      ]
    },
    {
      "cell_type": "code",
      "metadata": {
        "id": "JrqTTcALIY0a",
        "outputId": "6ffa5cf2-3f38-4431-ff1f-fffd7b47c1b5"
      },
      "source": [
        "#(11)\n",
        "n=10\n",
        "st.chi2.cdf(5,df=n-1)-st.chi2.cdf(3,df=n-1)"
      ],
      "execution_count": null,
      "outputs": [
        {
          "output_type": "execute_result",
          "data": {
            "text/plain": [
              "0.12998671249168164"
            ]
          },
          "metadata": {
            "tags": []
          },
          "execution_count": 90
        }
      ]
    },
    {
      "cell_type": "markdown",
      "metadata": {
        "id": "1dRf2CDMHw90"
      },
      "source": [
        "\n",
        "12. \n",
        "$\n",
        "\tP\\left(-1\\le T\\le1\\right)=?\n",
        "$\n"
      ]
    },
    {
      "cell_type": "code",
      "metadata": {
        "id": "PFxQFU9PIZop",
        "outputId": "1563f871-14f0-4f0a-b8c0-339a8662fb10"
      },
      "source": [
        "#(12)\n",
        "n=10\n",
        "v=n-1\n",
        "prob=st.t.cdf(1,df=v)-st.t.cdf(-1,df=v)\n",
        "prob"
      ],
      "execution_count": null,
      "outputs": [
        {
          "output_type": "execute_result",
          "data": {
            "text/plain": [
              "0.6565636038620863"
            ]
          },
          "metadata": {
            "tags": []
          },
          "execution_count": 81
        }
      ]
    },
    {
      "cell_type": "markdown",
      "metadata": {
        "id": "GON6jLUMHyDy"
      },
      "source": [
        "\n",
        "13. \n",
        "$\n",
        "\t若 P\\left( x_1\\le\\bar{X}\\le x_2\\right)=95\\%，那麼(x_1, x_2)=?\n",
        "$\n"
      ]
    },
    {
      "cell_type": "code",
      "metadata": {
        "id": "LxIBvURrIaiy",
        "outputId": "c2807438-266f-4512-db44-16192b191d51"
      },
      "source": [
        "#(13)\n",
        "import math \n",
        "x1=5-1.96*(σ/math.sqrt(n))\n",
        "x2=5+1.96*(σ/math.sqrt(n))\n",
        "print(x1,x2)"
      ],
      "execution_count": null,
      "outputs": [
        {
          "output_type": "stream",
          "text": [
            "3.7603871572139953 6.239612842786005\n"
          ],
          "name": "stdout"
        }
      ]
    },
    {
      "cell_type": "markdown",
      "metadata": {
        "id": "c7VR0hk7HzRF"
      },
      "source": [
        "\n",
        "14. \n",
        "$\n",
        "\t若 P\\left(q_1\\le S^2\\le\\ q_2\\right)=95\\%，那麼 (q_1, q_2) = ?\n",
        "$\n"
      ]
    },
    {
      "cell_type": "code",
      "metadata": {
        "id": "EFlvxALjNEaA",
        "outputId": "289acd17-a4ef-4c4f-97e0-4c22a6ca2dae"
      },
      "source": [
        "#(14)\n",
        "q1=((n-1)*(σ**2)/19.02)\n",
        "q2=((n-1)*(σ**2)/2.70)\n",
        "print(q1,q2)"
      ],
      "execution_count": null,
      "outputs": [
        {
          "output_type": "stream",
          "text": [
            "1.8927444794952681 13.333333333333332\n"
          ],
          "name": "stdout"
        }
      ]
    },
    {
      "cell_type": "markdown",
      "metadata": {
        "id": "F8AtCF7nH0eC"
      },
      "source": [
        "\n",
        "15. \n",
        "$\n",
        "\t若 P\\left(t_1\\le T\\le t_2\\right)= 95\\%，那麼 (t_1, t_2)=?\n",
        "$"
      ]
    },
    {
      "cell_type": "code",
      "metadata": {
        "id": "33NBIpemHTJP",
        "outputId": "54bb3cb4-d755-41e0-c210-1b951679115e"
      },
      "source": [
        "#(15)\n",
        "t1,t2=st.t.interval(.95,df=n-1)\n",
        "print(t1,t2)"
      ],
      "execution_count": null,
      "outputs": [
        {
          "output_type": "stream",
          "text": [
            "-2.2621571627409915 2.2621571627409915\n"
          ],
          "name": "stdout"
        }
      ]
    },
    {
      "cell_type": "markdown",
      "metadata": {
        "id": "vKD93gF61SFS"
      },
      "source": [
        "#[Q2]\n",
        "\n",
        "某大學於某年做了學生身高資料普查，學生總數N為 10000人，全體學生身高平均數μ= 159.8cm，標準差σ = 9.9 cm，資料分布約略如下圖：(橫坐標為身高cm、縱坐標為學生人數)\n"
      ]
    },
    {
      "cell_type": "code",
      "metadata": {
        "colab": {
          "base_uri": "https://localhost:8080/",
          "height": 424
        },
        "id": "xWPelhY8FqpS",
        "outputId": "29831002-8c34-4e5b-ab64-fecd92e1997d"
      },
      "source": [
        "# 針對某大學全體學生做了一次身高普查，學生總數 N= 10000\n",
        "# 普查資料 存放在 X \n",
        "\n",
        "# 先以模擬方式製造一堆 (size= 10000) 符合此種分布的實驗數據\n",
        "\n",
        "np.random.seed(0)\n",
        "X= st.norm.rvs(size=10000, loc= 160, scale=10)\n",
        "\n",
        "# 畫出 分布圖，\n",
        "# 並觀察母體平均數 mu= E(X)=μ== 159.8, \n",
        "# 以及 標準差 sigma= Std(X)=σ== 9.9\n",
        "\n",
        "X= pd.Series(X)\n",
        "X.hist(bins= 100, grid=True)\n",
        "X.describe().round(1)\n"
      ],
      "execution_count": null,
      "outputs": [
        {
          "output_type": "execute_result",
          "data": {
            "text/plain": [
              "count    10000.0\n",
              "mean       159.8\n",
              "std          9.9\n",
              "min        122.6\n",
              "25%        153.1\n",
              "50%        159.7\n",
              "75%        166.5\n",
              "max        198.0\n",
              "dtype: float64"
            ]
          },
          "metadata": {
            "tags": []
          },
          "execution_count": 36
        },
        {
          "output_type": "display_data",
          "data": {
            "image/png": "[encoded data removed]",
            "text/plain": [
              "<Figure size 432x288 with 1 Axes>"
            ]
          },
          "metadata": {
            "tags": [],
            "needs_background": "light"
          }
        }
      ]
    },
    {
      "cell_type": "markdown",
      "metadata": {
        "id": "ZsMVmx6H12Ss"
      },
      "source": [
        "某同學自己在好朋友之間 (10人) 做了一個調查，得到結果如下：\n",
        "\n"
      ]
    },
    {
      "cell_type": "code",
      "metadata": {
        "colab": {
          "base_uri": "https://localhost:8080/",
          "height": 78
        },
        "id": "9zfLpBwhFqwy",
        "outputId": "7d04d1b9-b7b8-49f8-9344-f4e43e1ce070"
      },
      "source": [
        "# 某位本課程的學生作了一個小實驗，\n",
        "# 他隨機調查了 n=10 位同學 的身高資料\n",
        "np.random.seed(0)\n",
        "smpSize= 10\n",
        "smpX= X.sample(n= smpSize)\n",
        "smpX.round(1)\n",
        "aDF= pd.DataFrame(smpX,columns=['身高(cm)'])\n",
        "aDF.index.name='學號'\n",
        "aDF.T.round(1)\n"
      ],
      "execution_count": null,
      "outputs": [
        {
          "output_type": "execute_result",
          "data": {
            "text/html": [
              "<div>\n",
              "<style scoped>\n",
              "    .dataframe tbody tr th:only-of-type {\n",
              "        vertical-align: middle;\n",
              "    }\n",
              "\n",
              "    .dataframe tbody tr th {\n",
              "        vertical-align: top;\n",
              "    }\n",
              "\n",
              "    .dataframe thead th {\n",
              "        text-align: right;\n",
              "    }\n",
              "</style>\n",
              "<table border=\"1\" class=\"dataframe\">\n",
              "  <thead>\n",
              "    <tr style=\"text-align: right;\">\n",
              "      <th>學號</th>\n",
              "      <th>9394</th>\n",
              "      <th>898</th>\n",
              "      <th>2398</th>\n",
              "      <th>5906</th>\n",
              "      <th>2343</th>\n",
              "      <th>8225</th>\n",
              "      <th>5506</th>\n",
              "      <th>6451</th>\n",
              "      <th>2670</th>\n",
              "      <th>3497</th>\n",
              "    </tr>\n",
              "  </thead>\n",
              "  <tbody>\n",
              "    <tr>\n",
              "      <th>身高(cm)</th>\n",
              "      <td>147.6</td>\n",
              "      <td>185.9</td>\n",
              "      <td>154.0</td>\n",
              "      <td>147.2</td>\n",
              "      <td>168.6</td>\n",
              "      <td>146.8</td>\n",
              "      <td>162.6</td>\n",
              "      <td>164.1</td>\n",
              "      <td>152.2</td>\n",
              "      <td>171.8</td>\n",
              "    </tr>\n",
              "  </tbody>\n",
              "</table>\n",
              "</div>"
            ],
            "text/plain": [
              "學號       9394   898    2398   5906   2343   8225   5506   6451   2670   3497\n",
              "身高(cm)  147.6  185.9  154.0  147.2  168.6  146.8  162.6  164.1  152.2  171.8"
            ]
          },
          "metadata": {
            "tags": []
          },
          "execution_count": 37
        }
      ]
    },
    {
      "cell_type": "markdown",
      "metadata": {
        "id": "hBk7XHvx2Y14"
      },
      "source": [
        "根據以上調查結果(10人之身高)，此位同學自行運用機率統計課程所學，搭配 Python 之統計計算模組，可以估計出以下結論\n",
        "\n",
        "16. 學校全體同學之平均身高μ之估測值 $\\bar{X}$ =?\n",
        "17. 學校全體同學之身高之標準差$σ$之估測值 $S$ =?\n",
        "18. μ 的 95% 信心區間 $(μ_1, μ_2)$ = ？\n"
      ]
    },
    {
      "cell_type": "code",
      "metadata": {
        "id": "XN6DdGTm2Dj8",
        "outputId": "4b592e09-78a3-4c9e-b013-472cd06020ad"
      },
      "source": [
        "#(16)\n",
        "#E(X bar)=μ\n",
        "np.mean(aDF)"
      ],
      "execution_count": null,
      "outputs": [
        {
          "output_type": "execute_result",
          "data": {
            "text/plain": [
              "身高(cm)    160.08338\n",
              "dtype: float64"
            ]
          },
          "metadata": {
            "tags": []
          },
          "execution_count": 43
        }
      ]
    },
    {
      "cell_type": "code",
      "metadata": {
        "id": "9FgNVEWm5Kzj",
        "outputId": "3bd11284-7725-43f8-faf3-ec705b493dc9"
      },
      "source": [
        "#(17)\n",
        "arr = np.array([147.6, 185.9, 154.0, 147.2, 168.6, 146.8,  162.6, 164.1, 152.2,171.8])\n",
        "print(np.std(arr, ddof=1))"
      ],
      "execution_count": null,
      "outputs": [
        {
          "output_type": "stream",
          "text": [
            "12.893564286108015\n"
          ],
          "name": "stdout"
        }
      ]
    },
    {
      "cell_type": "code",
      "metadata": {
        "id": "EfFLh7WG5K4L",
        "outputId": "2824a025-9922-4ddb-9cd7-0198f715a281"
      },
      "source": [
        "#(18)\n",
        "#μ 之 95% CI = X ± 1.96 * ( σ / √n )\n",
        "import math\n",
        "import statistics\n",
        "n=10\n",
        "μ1=np.mean(aDF)-1.96*(statistics.stdev(arr)/math.sqrt(n))\n",
        "μ2=np.mean(aDF)+1.96*(statistics.stdev(arr)/math.sqrt(n))\n",
        "print(μ1,μ2)"
      ],
      "execution_count": null,
      "outputs": [
        {
          "output_type": "stream",
          "text": [
            "身高(cm)    152.091866\n",
            "dtype: float64 身高(cm)    168.074894\n",
            "dtype: float64\n"
          ],
          "name": "stdout"
        }
      ]
    },
    {
      "cell_type": "markdown",
      "metadata": {
        "id": "L3k5nEyj26su"
      },
      "source": [
        "後來，此位同學獲得更多的資料，達到20人之身高資料，新增之資料如下：\n"
      ]
    },
    {
      "cell_type": "code",
      "metadata": {
        "colab": {
          "base_uri": "https://localhost:8080/",
          "height": 78
        },
        "id": "X0sua8kw2Dn1",
        "scrolled": true,
        "outputId": "ff942031-3fd1-4a2b-a24e-e1272d6d2838"
      },
      "source": [
        "# 這位同學 在另一日額外取得 另 10 位 同學的身高資料\n",
        "# 他把這批資料併入原始資料，成為一份20人的資料，\n",
        "# 重新計算所有統計量並獲得信心區間的重新估測。\n",
        "#\n",
        "smpSize= 20\n",
        "np.random.seed(0) #000\n",
        "smpX= X.sample(n= smpSize)\n",
        "smpX.round(1)\n",
        "aDF= pd.DataFrame(smpX,columns=['身高(cm)'])\n",
        "aDF.index.name='學號'\n",
        "\n",
        "#aDF.round(1)\n",
        "#aDF.T.round(1)\n",
        "\n",
        "# 以下分2列來顯示以利觀看\n",
        "aDF.iloc[:10].T.round(1)"
      ],
      "execution_count": null,
      "outputs": [
        {
          "output_type": "execute_result",
          "data": {
            "text/html": [
              "<div>\n",
              "<style scoped>\n",
              "    .dataframe tbody tr th:only-of-type {\n",
              "        vertical-align: middle;\n",
              "    }\n",
              "\n",
              "    .dataframe tbody tr th {\n",
              "        vertical-align: top;\n",
              "    }\n",
              "\n",
              "    .dataframe thead th {\n",
              "        text-align: right;\n",
              "    }\n",
              "</style>\n",
              "<table border=\"1\" class=\"dataframe\">\n",
              "  <thead>\n",
              "    <tr style=\"text-align: right;\">\n",
              "      <th>學號</th>\n",
              "      <th>9394</th>\n",
              "      <th>898</th>\n",
              "      <th>2398</th>\n",
              "      <th>5906</th>\n",
              "      <th>2343</th>\n",
              "      <th>8225</th>\n",
              "      <th>5506</th>\n",
              "      <th>6451</th>\n",
              "      <th>2670</th>\n",
              "      <th>3497</th>\n",
              "    </tr>\n",
              "  </thead>\n",
              "  <tbody>\n",
              "    <tr>\n",
              "      <th>身高(cm)</th>\n",
              "      <td>147.6</td>\n",
              "      <td>185.9</td>\n",
              "      <td>154.0</td>\n",
              "      <td>147.2</td>\n",
              "      <td>168.6</td>\n",
              "      <td>146.8</td>\n",
              "      <td>162.6</td>\n",
              "      <td>164.1</td>\n",
              "      <td>152.2</td>\n",
              "      <td>171.8</td>\n",
              "    </tr>\n",
              "  </tbody>\n",
              "</table>\n",
              "</div>"
            ],
            "text/plain": [
              "學號       9394   898    2398   5906   2343   8225   5506   6451   2670   3497\n",
              "身高(cm)  147.6  185.9  154.0  147.2  168.6  146.8  162.6  164.1  152.2  171.8"
            ]
          },
          "metadata": {
            "tags": []
          },
          "execution_count": 49
        }
      ]
    },
    {
      "cell_type": "code",
      "metadata": {
        "colab": {
          "base_uri": "https://localhost:8080/",
          "height": 78
        },
        "id": "n1lPOMD7LWGj",
        "scrolled": true,
        "outputId": "f209094f-17e8-498f-8edc-1527168f6d1e"
      },
      "source": [
        "aDF.iloc[10:].T.round(1)"
      ],
      "execution_count": null,
      "outputs": [
        {
          "output_type": "execute_result",
          "data": {
            "text/html": [
              "<div>\n",
              "<style scoped>\n",
              "    .dataframe tbody tr th:only-of-type {\n",
              "        vertical-align: middle;\n",
              "    }\n",
              "\n",
              "    .dataframe tbody tr th {\n",
              "        vertical-align: top;\n",
              "    }\n",
              "\n",
              "    .dataframe thead th {\n",
              "        text-align: right;\n",
              "    }\n",
              "</style>\n",
              "<table border=\"1\" class=\"dataframe\">\n",
              "  <thead>\n",
              "    <tr style=\"text-align: right;\">\n",
              "      <th>學號</th>\n",
              "      <th>1087</th>\n",
              "      <th>1819</th>\n",
              "      <th>2308</th>\n",
              "      <th>6084</th>\n",
              "      <th>3724</th>\n",
              "      <th>3184</th>\n",
              "      <th>6387</th>\n",
              "      <th>3728</th>\n",
              "      <th>2702</th>\n",
              "      <th>7883</th>\n",
              "    </tr>\n",
              "  </thead>\n",
              "  <tbody>\n",
              "    <tr>\n",
              "      <th>身高(cm)</th>\n",
              "      <td>151.4</td>\n",
              "      <td>152.0</td>\n",
              "      <td>177.1</td>\n",
              "      <td>155.1</td>\n",
              "      <td>159.8</td>\n",
              "      <td>188.0</td>\n",
              "      <td>163.7</td>\n",
              "      <td>178.6</td>\n",
              "      <td>144.0</td>\n",
              "      <td>161.8</td>\n",
              "    </tr>\n",
              "  </tbody>\n",
              "</table>\n",
              "</div>"
            ],
            "text/plain": [
              "學號       1087   1819   2308   6084   3724   3184   6387   3728   2702   7883\n",
              "身高(cm)  151.4  152.0  177.1  155.1  159.8  188.0  163.7  178.6  144.0  161.8"
            ]
          },
          "metadata": {
            "tags": []
          },
          "execution_count": 50
        }
      ]
    },
    {
      "cell_type": "markdown",
      "metadata": {
        "id": "tU4Bnhvs3Yic"
      },
      "source": [
        "19.\t以20人資料重新估算μ的95%信心區間 $(μ_{201}, μ_{202})$=? \n",
        "\n",
        "20.\t以20人的資料估算出來的信心區間 $(μ_{201}, μ_{202})$ 比10人的資料所估算的信心區間 $(μ_1, μ_2)$ 何者寬度較小？(請寫出各自的信心區間寬度) \n"
      ]
    },
    {
      "cell_type": "code",
      "metadata": {
        "id": "Gb8S7znP2Dv4",
        "outputId": "696c9644-87d8-4876-a287-0e06ce26c285"
      },
      "source": [
        "#(19)\n",
        "import math\n",
        "X=np.mean(aDF)\n",
        "arr = np.array([147.6, 185.9, 154.0, 147.2, 168.6, 146.8,  162.6, 164.1, 152.2,171.8,151.4,152,177.1,155.1,159.8,188,163.7,178.6,144,161.8])\n",
        "Y=(np.std(arr, ddof=1))\n",
        "n=20\n",
        "μ201=X-1.96*(Y/math.sqrt(n))\n",
        "μ202=X+1.96*(Y/math.sqrt(n))\n",
        "μ201,μ202"
      ],
      "execution_count": null,
      "outputs": [
        {
          "output_type": "execute_result",
          "data": {
            "text/plain": [
              "(身高(cm)    155.839072\n",
              " dtype: float64, 身高(cm)    167.393374\n",
              " dtype: float64)"
            ]
          },
          "metadata": {
            "tags": []
          },
          "execution_count": 68
        }
      ]
    },
    {
      "cell_type": "code",
      "metadata": {
        "id": "weKcxxMg2D0A",
        "outputId": "80319d9f-f100-4095-f971-84332f942f4a"
      },
      "source": [
        "#(20)\n",
        "μ1μ2=168.074894-152.091866\n",
        "μ201μ202=167.393374-155.839072\n",
        "print(\"μ1μ2\",μ1μ2)\n",
        "print(\"μ201μ202\",μ201μ202)\n",
        "if(μ1μ2<μ201μ202):\n",
        "    print(\"(μ1μ2)較小\")\n",
        "    print(\"=>\",μ1μ2)\n",
        "else:\n",
        "    print(\"(μ201μ202)較小\")\n",
        "    print(\"=>\",μ201μ202)"
      ],
      "execution_count": null,
      "outputs": [
        {
          "output_type": "stream",
          "text": [
            "μ1μ2 15.98302799999999\n",
            "μ201μ202 11.554302000000007\n",
            "(μ201μ202)較小\n",
            "=> 11.554302000000007\n"
          ],
          "name": "stdout"
        }
      ]
    },
    {
      "cell_type": "code",
      "metadata": {
        "id": "Pm908o70yymn"
      },
      "source": [
        "# ----------------- 考題到此為止 ----------------------"
      ],
      "execution_count": null,
      "outputs": []
    },
    {
      "cell_type": "code",
      "metadata": {
        "id": "ymngqKIKETC2"
      },
      "source": [
        "#code 連結\n",
        "#github: https://github.com/Shao-Chi-Wu/final_exam_code.git"
      ],
      "execution_count": null,
      "outputs": []
    }
  ]
}